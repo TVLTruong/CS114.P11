{
  "cells": [
    {
      "cell_type": "markdown",
      "metadata": {
        "id": "view-in-github",
        "colab_type": "text"
      },
      "source": [
        "<a href=\"https://colab.research.google.com/github/TVLTruong/CS114.P11/blob/main/Practice/C1_W2_Lab05_Sklearn_GD_Soln.ipynb\" target=\"_parent\"><img src=\"https://colab.research.google.com/assets/colab-badge.svg\" alt=\"Open In Colab\"/></a>"
      ]
    },
    {
      "cell_type": "markdown",
      "metadata": {
        "pycharm": {
          "name": "#%% md\n"
        },
        "id": "Ye5lP1xjcxZY"
      },
      "source": [
        "# Optional Lab: Linear Regression using Scikit-Learn"
      ],
      "id": "Ye5lP1xjcxZY"
    },
    {
      "cell_type": "markdown",
      "metadata": {
        "pycharm": {
          "name": "#%% md\n"
        },
        "id": "8Ex1WagbcxZZ"
      },
      "source": [
        "There is an open-source, commercially usable machine learning toolkit called [scikit-learn](https://scikit-learn.org/stable/index.html). This toolkit contains implementations of many of the algorithms that you will work with in this course.\n",
        "\n"
      ],
      "id": "8Ex1WagbcxZZ"
    },
    {
      "cell_type": "markdown",
      "metadata": {
        "pycharm": {
          "name": "#%% md\n"
        },
        "id": "fbUH6mOlcxZZ"
      },
      "source": [
        "## Goals\n",
        "In this lab you will:\n",
        "- Utilize  scikit-learn to implement linear regression using Gradient Descent"
      ],
      "id": "fbUH6mOlcxZZ"
    },
    {
      "cell_type": "markdown",
      "metadata": {
        "pycharm": {
          "name": "#%% md\n"
        },
        "id": "HIVpnMVJcxZa"
      },
      "source": [
        "## Tools\n",
        "You will utilize functions from scikit-learn as well as matplotlib and NumPy."
      ],
      "id": "HIVpnMVJcxZa"
    },
    {
      "cell_type": "code",
      "execution_count": 1,
      "metadata": {
        "pycharm": {
          "name": "#%%\n"
        },
        "id": "MKPg09YDcxZa"
      },
      "outputs": [],
      "source": [
        "import numpy as np\n",
        "import matplotlib.pyplot as plt\n",
        "from sklearn.linear_model import SGDRegressor\n",
        "from sklearn.preprocessing import StandardScaler\n",
        "from lab_utils_multi import  load_house_data\n",
        "from lab_utils_common import dlc\n",
        "np.set_printoptions(precision=2)\n",
        "plt.style.use('./deeplearning.mplstyle')"
      ],
      "id": "MKPg09YDcxZa"
    },
    {
      "cell_type": "markdown",
      "metadata": {
        "pycharm": {
          "name": "#%% md\n"
        },
        "id": "_caQr1vBcxZa"
      },
      "source": [
        "# Gradient Descent\n",
        "Scikit-learn has a gradient descent regression model [sklearn.linear_model.SGDRegressor](https://scikit-learn.org/stable/modules/generated/sklearn.linear_model.SGDRegressor.html#examples-using-sklearn-linear-model-sgdregressor).  Like your previous implementation of gradient descent, this model performs best with normalized inputs. [sklearn.preprocessing.StandardScaler](https://scikit-learn.org/stable/modules/generated/sklearn.preprocessing.StandardScaler.html#sklearn.preprocessing.StandardScaler) will perform z-score normalization as in a previous lab. Here it is referred to as 'standard score'."
      ],
      "id": "_caQr1vBcxZa"
    },
    {
      "cell_type": "markdown",
      "metadata": {
        "pycharm": {
          "name": "#%% md\n"
        },
        "id": "t9Op9kAGcxZb"
      },
      "source": [
        "### Load the data set"
      ],
      "id": "t9Op9kAGcxZb"
    },
    {
      "cell_type": "code",
      "execution_count": 3,
      "metadata": {
        "pycharm": {
          "name": "#%%\n"
        },
        "id": "Nh491YMecxZb"
      },
      "outputs": [],
      "source": [
        "X_train, y_train = load_house_data()\n",
        "X_features = ['size(sqft)','bedrooms','floors','age']"
      ],
      "id": "Nh491YMecxZb"
    },
    {
      "cell_type": "markdown",
      "metadata": {
        "pycharm": {
          "name": "#%% md\n"
        },
        "id": "nQ5XeJ_XcxZb"
      },
      "source": [
        "### Scale/normalize the training data"
      ],
      "id": "nQ5XeJ_XcxZb"
    },
    {
      "cell_type": "code",
      "execution_count": 4,
      "metadata": {
        "pycharm": {
          "name": "#%%\n"
        },
        "colab": {
          "base_uri": "https://localhost:8080/"
        },
        "id": "EFT77br2cxZb",
        "outputId": "e05a69ec-31e7-4d32-cb5e-d906622a675a"
      },
      "outputs": [
        {
          "output_type": "stream",
          "name": "stdout",
          "text": [
            "Peak to Peak range by column in Raw        X:[2.41e+03 4.00e+00 1.00e+00 9.50e+01]\n",
            "Peak to Peak range by column in Normalized X:[5.85 6.14 2.06 3.69]\n"
          ]
        }
      ],
      "source": [
        "scaler = StandardScaler()\n",
        "X_norm = scaler.fit_transform(X_train)\n",
        "print(f\"Peak to Peak range by column in Raw        X:{np.ptp(X_train,axis=0)}\")\n",
        "print(f\"Peak to Peak range by column in Normalized X:{np.ptp(X_norm,axis=0)}\")"
      ],
      "id": "EFT77br2cxZb"
    },
    {
      "cell_type": "markdown",
      "metadata": {
        "pycharm": {
          "name": "#%% md\n"
        },
        "id": "L4bLQWkGcxZc"
      },
      "source": [
        "### Create and fit the regression model"
      ],
      "id": "L4bLQWkGcxZc"
    },
    {
      "cell_type": "code",
      "execution_count": 5,
      "metadata": {
        "pycharm": {
          "name": "#%%\n"
        },
        "colab": {
          "base_uri": "https://localhost:8080/"
        },
        "id": "FwuuoerKcxZc",
        "outputId": "fe73fbb7-201c-44e6-efc8-444776861cd0"
      },
      "outputs": [
        {
          "output_type": "stream",
          "name": "stdout",
          "text": [
            "SGDRegressor()\n",
            "number of iterations completed: 112, number of weight updates: 11089.0\n"
          ]
        }
      ],
      "source": [
        "sgdr = SGDRegressor(max_iter=1000)\n",
        "sgdr.fit(X_norm, y_train)\n",
        "print(sgdr)\n",
        "print(f\"number of iterations completed: {sgdr.n_iter_}, number of weight updates: {sgdr.t_}\")"
      ],
      "id": "FwuuoerKcxZc"
    },
    {
      "cell_type": "markdown",
      "metadata": {
        "pycharm": {
          "name": "#%% md\n"
        },
        "id": "Qq5aSp0hcxZc"
      },
      "source": [
        "### View parameters\n",
        "Note, the parameters are associated with the *normalized* input data. The fit parameters are very close to those found in the previous lab with this data."
      ],
      "id": "Qq5aSp0hcxZc"
    },
    {
      "cell_type": "code",
      "execution_count": 6,
      "metadata": {
        "pycharm": {
          "name": "#%%\n"
        },
        "colab": {
          "base_uri": "https://localhost:8080/"
        },
        "id": "z8VsEIZWcxZc",
        "outputId": "7168c8d6-1825-404a-d2a6-8a58edcf3c60"
      },
      "outputs": [
        {
          "output_type": "stream",
          "name": "stdout",
          "text": [
            "model parameters:                   w: [109.97 -20.96 -32.35 -38.08], b:[363.17]\n",
            "model parameters from previous lab: w: [110.56 -21.27 -32.71 -37.97], b: 363.16\n"
          ]
        }
      ],
      "source": [
        "b_norm = sgdr.intercept_\n",
        "w_norm = sgdr.coef_\n",
        "print(f\"model parameters:                   w: {w_norm}, b:{b_norm}\")\n",
        "print( \"model parameters from previous lab: w: [110.56 -21.27 -32.71 -37.97], b: 363.16\")"
      ],
      "id": "z8VsEIZWcxZc"
    },
    {
      "cell_type": "markdown",
      "metadata": {
        "pycharm": {
          "name": "#%% md\n"
        },
        "id": "LkbUJPZmcxZd"
      },
      "source": [
        "### Make predictions\n",
        "Predict the targets of the training data. Use both the `predict` routine and compute using $w$ and $b$."
      ],
      "id": "LkbUJPZmcxZd"
    },
    {
      "cell_type": "code",
      "execution_count": 7,
      "metadata": {
        "pycharm": {
          "name": "#%%\n"
        },
        "colab": {
          "base_uri": "https://localhost:8080/"
        },
        "id": "uVZQC8QFcxZd",
        "outputId": "81d54c16-1a78-4f67-9dfc-00ab10891399"
      },
      "outputs": [
        {
          "output_type": "stream",
          "name": "stdout",
          "text": [
            "prediction using np.dot() and sgdr.predict match: True\n",
            "Prediction on training set:\n",
            "[295.18 485.91 389.66 492.07]\n",
            "Target values \n",
            "[300.  509.8 394.  540. ]\n"
          ]
        }
      ],
      "source": [
        "# make a prediction using sgdr.predict()\n",
        "y_pred_sgd = sgdr.predict(X_norm)\n",
        "# make a prediction using w,b.\n",
        "y_pred = np.dot(X_norm, w_norm) + b_norm\n",
        "print(f\"prediction using np.dot() and sgdr.predict match: {(y_pred == y_pred_sgd).all()}\")\n",
        "\n",
        "print(f\"Prediction on training set:\\n{y_pred[:4]}\" )\n",
        "print(f\"Target values \\n{y_train[:4]}\")"
      ],
      "id": "uVZQC8QFcxZd"
    },
    {
      "cell_type": "markdown",
      "metadata": {
        "pycharm": {
          "name": "#%% md\n"
        },
        "id": "CyfQxZVucxZd"
      },
      "source": [
        "### Plot Results\n",
        "Let's plot the predictions versus the target values."
      ],
      "id": "CyfQxZVucxZd"
    },
    {
      "cell_type": "code",
      "execution_count": 9,
      "metadata": {
        "pycharm": {
          "name": "#%%\n"
        },
        "colab": {
          "base_uri": "https://localhost:8080/",
          "height": 258
        },
        "id": "65OpkYXGcxZd",
        "outputId": "7a56a62f-8307-4601-e395-38c55d6447e7"
      },
      "outputs": [
        {
          "output_type": "display_data",
          "data": {
            "text/plain": [
              "<Figure size 900x200 with 4 Axes>"
            ],
            "image/png": "[encoded data removed]"
          },
          "metadata": {}
        }
      ],
      "source": [
        "# plot predictions and targets vs original features\n",
        "fig,ax=plt.subplots(1,4,figsize=(9,2),sharey=True)\n",
        "for i in range(len(ax)):\n",
        "    ax[i].scatter(X_train[:,i],y_train, label = 'target')\n",
        "    ax[i].set_xlabel(X_features[i])\n",
        "    ax[i].scatter(X_train[:,i],y_pred,color=dlc[\"dlorange\"], label = 'predict')\n",
        "ax[0].set_ylabel(\"Price\"); ax[0].legend();\n",
        "fig.suptitle(\"target versus prediction using z-score normalized model\")\n",
        "plt.show()"
      ],
      "id": "65OpkYXGcxZd"
    },
    {
      "cell_type": "markdown",
      "metadata": {
        "pycharm": {
          "name": "#%% md\n"
        },
        "id": "CQdVJpLJcxZd"
      },
      "source": [
        "## Congratulations!\n",
        "In this lab you:\n",
        "- utilized an open-source machine learning toolkit, scikit-learn\n",
        "- implemented linear regression using gradient descent and feature normalization from that toolkit"
      ],
      "id": "CQdVJpLJcxZd"
    },
    {
      "cell_type": "code",
      "execution_count": null,
      "metadata": {
        "pycharm": {
          "name": "#%%\n"
        },
        "id": "3kyc33VhcxZd"
      },
      "outputs": [],
      "source": [],
      "id": "3kyc33VhcxZd"
    }
  ],
  "metadata": {
    "kernelspec": {
      "display_name": "Python 3",
      "language": "python",
      "name": "python3"
    },
    "language_info": {
      "codemirror_mode": {
        "name": "ipython",
        "version": 3
      },
      "file_extension": ".py",
      "mimetype": "text/x-python",
      "name": "python",
      "nbconvert_exporter": "python",
      "pygments_lexer": "ipython3",
      "version": "3.8.10"
    },
    "colab": {
      "provenance": [],
      "include_colab_link": true
    }
  },
  "nbformat": 4,
  "nbformat_minor": 5
}