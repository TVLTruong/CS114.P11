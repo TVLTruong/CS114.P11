{
 "cells": [
  {
   "cell_type": "markdown",
   "metadata": {
    "execution": {
     "iopub.execute_input": "2025-01-05T11:01:45.854424Z",
     "iopub.status.busy": "2025-01-05T11:01:45.853960Z",
     "iopub.status.idle": "2025-01-05T11:03:10.520939Z",
     "shell.execute_reply": "2025-01-05T11:03:10.519793Z",
     "shell.execute_reply.started": "2025-01-05T11:01:45.854377Z"
    }
   },
   "source": [
    "## Tìm kiếm ảnh lỗi"
   ]
  },
  {
   "cell_type": "code",
   "execution_count": 1,
   "metadata": {
    "execution": {
     "iopub.execute_input": "2025-01-06T02:06:31.068479Z",
     "iopub.status.busy": "2025-01-06T02:06:31.068159Z",
     "iopub.status.idle": "2025-01-06T02:13:45.295400Z",
     "shell.execute_reply": "2025-01-06T02:13:45.294031Z",
     "shell.execute_reply.started": "2025-01-06T02:06:31.068450Z"
    },
    "trusted": true
   },
   "outputs": [
    {
     "name": "stderr",
     "output_type": "stream",
     "text": [
      "Đang kiểm tra ảnh: 100%|██████████| 38044/38044 [06:16<00:00, 101.13ảnh/s]"
     ]
    },
    {
     "name": "stdout",
     "output_type": "stream",
     "text": [
      "Đã tìm thấy 31 ảnh bị lỗi. Danh sách được lưu vào /kaggle/working/ImageErrors.csv\n"
     ]
    },
    {
     "name": "stderr",
     "output_type": "stream",
     "text": [
      "\n"
     ]
    }
   ],
   "source": [
    "import os\n",
    "import pandas as pd\n",
    "from PIL import Image\n",
    "from tqdm import tqdm  # Thêm tqdm để hiển thị thanh tiến trình\n",
    "\n",
    "input_dir = '/kaggle/input/car-cs114/dataset/'\n",
    "output_csv = '/kaggle/working/ImageErrors.csv'\n",
    "\n",
    "def find_corrupted_images(input_dir, output_csv):\n",
    "    error_records = []\n",
    "    category_mapping = {\n",
    "        'Others': 0,\n",
    "        'Honda': 1,\n",
    "        'Hyundai': 2,\n",
    "        'KIA': 3,\n",
    "        'Mazda': 4,\n",
    "        'Mitsubishi': 5,\n",
    "        'Suzuki': 6,\n",
    "        'Toyota': 7,\n",
    "        'VinFast': 8\n",
    "    }\n",
    "\n",
    "    total_files = sum([len(files) for _, _, files in os.walk(input_dir)])\n",
    "\n",
    "    with tqdm(total=total_files, desc=\"Đang kiểm tra ảnh\", unit=\"ảnh\") as pbar:\n",
    "        for root, dirs, files in os.walk(input_dir):\n",
    "            category_name = os.path.basename(root)\n",
    "\n",
    "            # Bỏ qua các thư mục không có trong category_mapping\n",
    "            if category_name not in category_mapping:\n",
    "                pbar.update(len(files))  # Cập nhật tiến trình cho các file bị bỏ qua\n",
    "                continue\n",
    "\n",
    "            category_id = category_mapping[category_name]\n",
    "            for file in files:\n",
    "                relative_path = os.path.join(category_name, file)\n",
    "                full_path = os.path.join(root, file)\n",
    "\n",
    "                try:\n",
    "                    with Image.open(full_path) as img:\n",
    "                        img.verify()\n",
    "                except Exception:\n",
    "                    error_records.append({\"ImageErrorFullPath\": relative_path, \"CategoryID\": category_id})\n",
    "\n",
    "                pbar.update(1)\n",
    "\n",
    "    if error_records:\n",
    "        error_df = pd.DataFrame(error_records)\n",
    "        error_df.to_csv(output_csv, index=False)\n",
    "        print(f\"Đã tìm thấy {len(error_records)} ảnh bị lỗi. Danh sách được lưu vào {output_csv}\")\n",
    "    else:\n",
    "        print(\"Không tìm thấy ảnh bị lỗi nào.\")\n",
    "\n",
    "find_corrupted_images(input_dir, output_csv)\n"
   ]
  }
 ],
 "metadata": {
  "kaggle": {
   "accelerator": "none",
   "dataSources": [
    {
     "datasetId": 6426345,
     "sourceId": 10384147,
     "sourceType": "datasetVersion"
    }
   ],
   "dockerImageVersionId": 30823,
   "isGpuEnabled": false,
   "isInternetEnabled": true,
   "language": "python",
   "sourceType": "notebook"
  },
  "kernelspec": {
   "display_name": "Python 3",
   "language": "python",
   "name": "python3"
  },
  "language_info": {
   "codemirror_mode": {
    "name": "ipython",
    "version": 3
   },
   "file_extension": ".py",
   "mimetype": "text/x-python",
   "name": "python",
   "nbconvert_exporter": "python",
   "pygments_lexer": "ipython3",
   "version": "3.10.12"
  }
 },
 "nbformat": 4,
 "nbformat_minor": 4
}
